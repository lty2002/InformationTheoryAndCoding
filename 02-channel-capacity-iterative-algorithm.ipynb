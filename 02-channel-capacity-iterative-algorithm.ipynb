{
 "cells": [
  {
   "cell_type": "code",
   "execution_count": 1,
   "metadata": {
    "collapsed": true,
    "ExecuteTime": {
     "end_time": "2023-05-16T09:56:25.054683Z",
     "start_time": "2023-05-16T09:56:24.963807Z"
    }
   },
   "outputs": [],
   "source": [
    "import numpy as np"
   ]
  },
  {
   "cell_type": "code",
   "execution_count": 3,
   "outputs": [
    {
     "data": {
      "text/plain": "array([[0.5  , 0.25 , 0.125, 0.125],\n       [0.25 , 0.5  , 0.125, 0.125]])"
     },
     "execution_count": 3,
     "metadata": {},
     "output_type": "execute_result"
    }
   ],
   "source": [
    "P = np.array([[0.5, 0.25, 0.125, 0.125],\n",
    "              [0.25, 0.5, 0.125, 0.125]])\n",
    "P"
   ],
   "metadata": {
    "collapsed": false,
    "ExecuteTime": {
     "end_time": "2023-05-16T09:57:17.679457Z",
     "start_time": "2023-05-16T09:57:17.664830Z"
    }
   }
  },
  {
   "cell_type": "code",
   "execution_count": 25,
   "outputs": [
    {
     "name": "stdout",
     "output_type": "stream",
     "text": [
      "P_i [0.5, 0.5]\n",
      "C -inf\n"
     ]
    }
   ],
   "source": [
    "def calc_channel_capacity(matrix: np.ndarray):\n",
    "    x_num = matrix.shape[0]\n",
    "    y_num = matrix.shape[1]\n",
    "    p_i = np.zeros((1, x_num))\n",
    "\n",
    "    # 初始化信源分布\n",
    "    p_i = [1 / x_num] * x_num\n",
    "    print('P_i', p_i)\n",
    "\n",
    "    capacity = -np.inf\n",
    "    print('C', capacity)\n",
    "\n",
    "    cnt = 2\n",
    "    while True:\n",
    "\n",
    "        # phi =\n",
    "        return\n",
    "\n",
    "\n",
    "calc_channel_capacity(P)"
   ],
   "metadata": {
    "collapsed": false,
    "ExecuteTime": {
     "end_time": "2023-05-16T15:49:12.256169Z",
     "start_time": "2023-05-16T15:49:12.255562Z"
    }
   }
  },
  {
   "cell_type": "code",
   "execution_count": 18,
   "outputs": [
    {
     "name": "stdout",
     "output_type": "stream",
     "text": [
      "[0.5, 0.5]\n"
     ]
    }
   ],
   "source": [
    "calc_channel_capacity(P)"
   ],
   "metadata": {
    "collapsed": false,
    "ExecuteTime": {
     "end_time": "2023-05-16T10:18:07.834991Z",
     "start_time": "2023-05-16T10:18:07.832295Z"
    }
   }
  }
 ],
 "metadata": {
  "kernelspec": {
   "display_name": "Python 3",
   "language": "python",
   "name": "python3"
  },
  "language_info": {
   "codemirror_mode": {
    "name": "ipython",
    "version": 2
   },
   "file_extension": ".py",
   "mimetype": "text/x-python",
   "name": "python",
   "nbconvert_exporter": "python",
   "pygments_lexer": "ipython2",
   "version": "2.7.6"
  }
 },
 "nbformat": 4,
 "nbformat_minor": 0
}
